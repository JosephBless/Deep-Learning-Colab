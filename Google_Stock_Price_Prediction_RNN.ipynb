{
  "nbformat": 4,
  "nbformat_minor": 0,
  "metadata": {
    "colab": {
      "name": "Google Stock Price Prediction RNN",
      "provenance": [],
      "collapsed_sections": [],
      "include_colab_link": true
    },
    "kernelspec": {
      "name": "python3",
      "display_name": "Python 3"
    },
    "accelerator": "GPU"
  },
  "cells": [
    {
      "cell_type": "markdown",
      "metadata": {
        "id": "view-in-github",
        "colab_type": "text"
      },
      "source": [
        "<a href=\"https://colab.research.google.com/github/JosephBless/DL/blob/main/Google_Stock_Price_Prediction_RNN.ipynb\" target=\"_parent\"><img src=\"https://colab.research.google.com/assets/colab-badge.svg\" alt=\"Open In Colab\"/></a>"
      ]
    },
    {
      "cell_type": "markdown",
      "metadata": {
        "id": "kRO9n1MJVlHv"
      },
      "source": [
        "LSTM that predicts upwards and downwards trend of google stockprice \n",
        "Many layers with dropout regularisation to prevent overfitting"
      ]
    },
    {
      "cell_type": "markdown",
      "metadata": {
        "id": "UCsb2gWesFOS"
      },
      "source": [
        "Part 1 - Data Preprocessing"
      ]
    },
    {
      "cell_type": "code",
      "metadata": {
        "id": "UTEkX8bcqioW"
      },
      "source": [
        "# Importing the libraries\n",
        "import numpy as np #allow to make arrays\n",
        "import matplotlib.pyplot as plt #visualize results on charts \n",
        "import pandas as pd #import dataset and manage easily"
      ],
      "execution_count": null,
      "outputs": []
    },
    {
      "cell_type": "code",
      "metadata": {
        "id": "21jugdesW5-7"
      },
      "source": [
        "# Importing the training set - only importing training set, test set later  on \n",
        "#rnn has no idea of the test set's data, then after training is done, test set will eb important\n",
        "dataset_train = pd.read_csv('GOOGL_Stock_Price_Train.csv')\n",
        "\n",
        "#need to make into numpy arrays because only nump arrays can be input values in keras\n",
        "training_set = dataset_train.iloc[:, 1:2].values \n",
        "\n",
        "#getting everything from the columns (.values makes the numpy array)"
      ],
      "execution_count": null,
      "outputs": []
    },
    {
      "cell_type": "code",
      "metadata": {
        "id": "pZi462V1qsPK"
      },
      "source": [
        "# Feature Scaling\n",
        "#2 ways: take obs- min ofstock prices/max of stock prices- min of stock prices\n",
        "#using normalization instead of standardisation- look at meaning\n",
        "from sklearn.preprocessing import MinMaxScaler\n",
        "sc = MinMaxScaler(feature_range = (0, 1))\n",
        "training_set_scaled = sc.fit_transform(training_set) #fit (gets min and max on data to apply formula) tranform(compute scale stock prices to each formula)"
      ],
      "execution_count": null,
      "outputs": []
    },
    {
      "cell_type": "code",
      "metadata": {
        "id": "9C4BE-F1sLpZ"
      },
      "source": [
        "# Creating a data structure with 60 timesteps and 1 output\n",
        "#60 times steps- at each time t and look at 60 previous time steps, then make new prediction \n",
        "# 1 time step leads to overfitting, 20 is still too low\n",
        "#60 previous financial days- in 3 months \n",
        "X_train = []\n",
        "y_train = []\n",
        "for i in range(60, 2168): # upper bound is number of values \n",
        "  X_train.append(training_set_scaled[i-60:i, 0]) #takes 60 previous stock prices from 60 past stock prices\n",
        "  y_train.append(training_set_scaled[i, 0]) #contains stock price learned to predict \n",
        "X_train, y_train = np.array(X_train), np.array(y_train) # make into numpy arrays \n",
        "#Need to add dimension to because not only prescition with one stock price but other indicators (like other columns in dataset  or other stocks that may affect this one )"
      ],
      "execution_count": null,
      "outputs": []
    },
    {
      "cell_type": "code",
      "metadata": {
        "id": "k_fnQGmSvfTu"
      },
      "source": [
        "# Reshaping- add dimension in numpy array \n",
        "X_train = np.reshape(X_train, (X_train.shape[0], X_train.shape[1], 1)) #adds dimension in numpy array\n",
        "#currently only have one indicator, with new dimension will have more indicators, be compatible for \"input shape\" of RNN\n",
        "# format according to keras documentation \n"
      ],
      "execution_count": null,
      "outputs": []
    },
    {
      "cell_type": "markdown",
      "metadata": {
        "id": "j3EQlGCOvhzE"
      },
      "source": [
        "Part 2 - Building the RNN \n",
        "stacked lstm with dropout regularization to prevent overfitting"
      ]
    },
    {
      "cell_type": "code",
      "metadata": {
        "id": "4trYuBUXvuB5",
        "colab": {
          "base_uri": "https://localhost:8080/",
          "height": 34
        },
        "outputId": "2032ccc4-e643-4123-a48c-ef1255315de0"
      },
      "source": [
        "# Importing the Keras libraries and packages\n",
        "from keras.models import Sequential\n",
        "from keras.layers import Dense\n",
        "from keras.layers import LSTM\n",
        "from keras.layers import Dropout"
      ],
      "execution_count": null,
      "outputs": [
        {
          "output_type": "stream",
          "text": [
            "Using TensorFlow backend.\n"
          ],
          "name": "stderr"
        }
      ]
    },
    {
      "cell_type": "code",
      "metadata": {
        "id": "Oy4m0z1svv4N"
      },
      "source": [
        "# Initialising the RNN\n",
        "regressor = Sequential() #reps sequence of layers, predicting continous values (so it is a regression)"
      ],
      "execution_count": null,
      "outputs": []
    },
    {
      "cell_type": "code",
      "metadata": {
        "id": "fWQQNeG_vwXV",
        "colab": {
          "base_uri": "https://localhost:8080/",
          "height": 139
        },
        "outputId": "c9b94961-714c-422a-e369-9ea0f1303661"
      },
      "source": [
        "# Adding the first LSTM layer and some Dropout regularisation\n",
        "#dropout to prevent overfitting\n",
        "regressor.add(LSTM(units = 50, return_sequences = True, input_shape = (X_train.shape[1], 1)))#regressor- object of sequential class, can add layers to networ.\n",
        "#use lstm class and create object of lstm class- 3 args\n",
        "#num of units, return sequences- set to true because is stacked lstms, and shape\n",
        "#units- neurons in first layer. 50 in layers for high dimensionality, can capture upward and downward\n",
        "regressor.add(Dropout(0.2))\n",
        "# takes arg of dropout late- num of neurons want to drop. dropping 20% of neurons to be ignored during trianingn for each iteratin. 10 neurons will be dropped out"
      ],
      "execution_count": null,
      "outputs": [
        {
          "output_type": "stream",
          "text": [
            "WARNING:tensorflow:From /usr/local/lib/python3.6/dist-packages/tensorflow/python/framework/op_def_library.py:263: colocate_with (from tensorflow.python.framework.ops) is deprecated and will be removed in a future version.\n",
            "Instructions for updating:\n",
            "Colocations handled automatically by placer.\n",
            "WARNING:tensorflow:From /usr/local/lib/python3.6/dist-packages/keras/backend/tensorflow_backend.py:3445: calling dropout (from tensorflow.python.ops.nn_ops) with keep_prob is deprecated and will be removed in a future version.\n",
            "Instructions for updating:\n",
            "Please use `rate` instead of `keep_prob`. Rate should be set to `rate = 1 - keep_prob`.\n"
          ],
          "name": "stdout"
        }
      ]
    },
    {
      "cell_type": "code",
      "metadata": {
        "id": "xMTvkPLtvz4r"
      },
      "source": [
        "# Adding a second LSTM layer and some Dropout regularisation\n",
        "# total of 4 layers, simply need to copy, only change is input shape so dont need to specify that, automatically recognised through input shape\n",
        "\n",
        "regressor.add(LSTM(units = 50, return_sequences = True)) \n",
        "\n",
        "regressor.add(Dropout(0.2))"
      ],
      "execution_count": null,
      "outputs": []
    },
    {
      "cell_type": "code",
      "metadata": {
        "id": "DwZjs53zv0K1"
      },
      "source": [
        "# Adding a third LSTM layer and some Dropout regularisation\n",
        "# same as second layer \n",
        "regressor.add(LSTM(units = 50, return_sequences = True))\n",
        "regressor.add(Dropout(0.2))"
      ],
      "execution_count": null,
      "outputs": []
    },
    {
      "cell_type": "code",
      "metadata": {
        "id": "TqAm5r3_v9b-"
      },
      "source": [
        "# Adding a fourth LSTM layer and some Dropout regularisation\n",
        "# almost same, but return sequence is false because it is the last lstm layer (so it is removed becasue default is false)\n",
        "regressor.add(LSTM(units = 50))\n",
        "regressor.add(Dropout(0.2))"
      ],
      "execution_count": null,
      "outputs": []
    },
    {
      "cell_type": "code",
      "metadata": {
        "id": "GyBA3V_WwAP5"
      },
      "source": [
        "# Adding the output layer\n",
        "#add fully connected layer through dense class- dimesion/units/neurons is 1\n",
        "regressor.add(Dense(units = 1))"
      ],
      "execution_count": null,
      "outputs": []
    },
    {
      "cell_type": "code",
      "metadata": {
        "id": "F_GkymP6wAbZ"
      },
      "source": [
        "# Compiling the RNN\n",
        "#regressior because predicting continuous value, \n",
        "regressor.compile(optimizer = 'adam', loss = 'mean_squared_error')"
      ],
      "execution_count": null,
      "outputs": []
    },
    {
      "cell_type": "code",
      "metadata": {
        "id": "s__QxkRNwHRO",
        "colab": {
          "base_uri": "https://localhost:8080/",
          "height": 6905
        },
        "outputId": "1827f412-b4a3-4574-d1d5-8c9e0190ca0e"
      },
      "source": [
        "# Fitting the RNN to the Training set\n",
        "#have not made connection to training set, training will take place\n",
        "regressor.fit(X_train, y_train, epochs = 200, batch_size = 32) # CHANGE BACK TO 100 IF NOT WORK\n",
        "#100 gives good convergence\n",
        "# trained on certain batch sizes, "
      ],
      "execution_count": null,
      "outputs": [
        {
          "output_type": "stream",
          "text": [
            "WARNING:tensorflow:From /usr/local/lib/python3.6/dist-packages/tensorflow/python/ops/math_ops.py:3066: to_int32 (from tensorflow.python.ops.math_ops) is deprecated and will be removed in a future version.\n",
            "Instructions for updating:\n",
            "Use tf.cast instead.\n",
            "Epoch 1/200\n",
            "2108/2108 [==============================] - 32s 15ms/step - loss: 0.0198\n",
            "Epoch 2/200\n",
            "2108/2108 [==============================] - 28s 13ms/step - loss: 0.0026\n",
            "Epoch 3/200\n",
            "2108/2108 [==============================] - 29s 14ms/step - loss: 0.0026\n",
            "Epoch 4/200\n",
            "2108/2108 [==============================] - 28s 13ms/step - loss: 0.0023\n",
            "Epoch 5/200\n",
            "2108/2108 [==============================] - 28s 13ms/step - loss: 0.0024\n",
            "Epoch 6/200\n",
            "2108/2108 [==============================] - 28s 14ms/step - loss: 0.0024\n",
            "Epoch 7/200\n",
            "2108/2108 [==============================] - 28s 13ms/step - loss: 0.0021\n",
            "Epoch 8/200\n",
            "2108/2108 [==============================] - 28s 13ms/step - loss: 0.0020\n",
            "Epoch 9/200\n",
            "2108/2108 [==============================] - 28s 13ms/step - loss: 0.0021\n",
            "Epoch 10/200\n",
            "2108/2108 [==============================] - 28s 13ms/step - loss: 0.0019\n",
            "Epoch 11/200\n",
            "2108/2108 [==============================] - 28s 13ms/step - loss: 0.0018\n",
            "Epoch 12/200\n",
            "2108/2108 [==============================] - 28s 13ms/step - loss: 0.0019\n",
            "Epoch 13/200\n",
            "2108/2108 [==============================] - 28s 13ms/step - loss: 0.0018\n",
            "Epoch 14/200\n",
            "2108/2108 [==============================] - 29s 14ms/step - loss: 0.0018\n",
            "Epoch 15/200\n",
            "2108/2108 [==============================] - 28s 13ms/step - loss: 0.0019\n",
            "Epoch 16/200\n",
            "2108/2108 [==============================] - 28s 13ms/step - loss: 0.0018\n",
            "Epoch 17/200\n",
            "2108/2108 [==============================] - 29s 14ms/step - loss: 0.0017\n",
            "Epoch 18/200\n",
            "2108/2108 [==============================] - 28s 13ms/step - loss: 0.0015\n",
            "Epoch 19/200\n",
            "2108/2108 [==============================] - 28s 13ms/step - loss: 0.0015\n",
            "Epoch 20/200\n",
            "2108/2108 [==============================] - 28s 13ms/step - loss: 0.0015\n",
            "Epoch 21/200\n",
            "2108/2108 [==============================] - 28s 13ms/step - loss: 0.0014\n",
            "Epoch 22/200\n",
            "2108/2108 [==============================] - 28s 13ms/step - loss: 0.0014\n",
            "Epoch 23/200\n",
            "2108/2108 [==============================] - 28s 13ms/step - loss: 0.0015\n",
            "Epoch 24/200\n",
            "2108/2108 [==============================] - 28s 13ms/step - loss: 0.0013\n",
            "Epoch 25/200\n",
            "2108/2108 [==============================] - 29s 14ms/step - loss: 0.0013\n",
            "Epoch 26/200\n",
            "2108/2108 [==============================] - 28s 13ms/step - loss: 0.0014\n",
            "Epoch 27/200\n",
            "2108/2108 [==============================] - 28s 13ms/step - loss: 0.0014\n",
            "Epoch 28/200\n",
            "2108/2108 [==============================] - 28s 13ms/step - loss: 0.0015\n",
            "Epoch 29/200\n",
            "2108/2108 [==============================] - 28s 13ms/step - loss: 0.0013\n",
            "Epoch 30/200\n",
            "2108/2108 [==============================] - 28s 13ms/step - loss: 0.0013\n",
            "Epoch 31/200\n",
            "2108/2108 [==============================] - 28s 13ms/step - loss: 0.0013\n",
            "Epoch 32/200\n",
            "2108/2108 [==============================] - 28s 13ms/step - loss: 0.0018\n",
            "Epoch 33/200\n",
            "2108/2108 [==============================] - 28s 13ms/step - loss: 0.0013\n",
            "Epoch 34/200\n",
            "2108/2108 [==============================] - 28s 13ms/step - loss: 0.0014\n",
            "Epoch 35/200\n",
            "2108/2108 [==============================] - 28s 13ms/step - loss: 0.0013\n",
            "Epoch 36/200\n",
            "2108/2108 [==============================] - 29s 14ms/step - loss: 0.0011\n",
            "Epoch 37/200\n",
            "2108/2108 [==============================] - 28s 13ms/step - loss: 0.0011\n",
            "Epoch 38/200\n",
            "2108/2108 [==============================] - 29s 14ms/step - loss: 0.0012\n",
            "Epoch 39/200\n",
            "2108/2108 [==============================] - 28s 13ms/step - loss: 0.0011\n",
            "Epoch 40/200\n",
            "2108/2108 [==============================] - 28s 13ms/step - loss: 0.0011\n",
            "Epoch 41/200\n",
            "2108/2108 [==============================] - 28s 13ms/step - loss: 0.0012\n",
            "Epoch 42/200\n",
            "2108/2108 [==============================] - 28s 13ms/step - loss: 0.0012\n",
            "Epoch 43/200\n",
            "2108/2108 [==============================] - 28s 13ms/step - loss: 0.0011\n",
            "Epoch 44/200\n",
            "2108/2108 [==============================] - 28s 13ms/step - loss: 0.0011\n",
            "Epoch 45/200\n",
            "2108/2108 [==============================] - 28s 13ms/step - loss: 0.0010\n",
            "Epoch 46/200\n",
            "2108/2108 [==============================] - 29s 14ms/step - loss: 9.6576e-04\n",
            "Epoch 47/200\n",
            "2108/2108 [==============================] - 29s 14ms/step - loss: 9.9129e-04\n",
            "Epoch 48/200\n",
            "2108/2108 [==============================] - 28s 13ms/step - loss: 9.6001e-04\n",
            "Epoch 49/200\n",
            "2108/2108 [==============================] - 28s 13ms/step - loss: 0.0010\n",
            "Epoch 50/200\n",
            "2108/2108 [==============================] - 27s 13ms/step - loss: 0.0010\n",
            "Epoch 51/200\n",
            "2108/2108 [==============================] - 27s 13ms/step - loss: 0.0011\n",
            "Epoch 52/200\n",
            "2108/2108 [==============================] - 28s 13ms/step - loss: 9.9892e-04\n",
            "Epoch 53/200\n",
            "2108/2108 [==============================] - 28s 13ms/step - loss: 0.0012\n",
            "Epoch 54/200\n",
            "2108/2108 [==============================] - 28s 13ms/step - loss: 0.0011\n",
            "Epoch 55/200\n",
            "2108/2108 [==============================] - 28s 13ms/step - loss: 9.8085e-04\n",
            "Epoch 56/200\n",
            "2108/2108 [==============================] - 28s 13ms/step - loss: 9.4645e-04\n",
            "Epoch 57/200\n",
            "2108/2108 [==============================] - 28s 13ms/step - loss: 0.0011\n",
            "Epoch 58/200\n",
            "2108/2108 [==============================] - 28s 13ms/step - loss: 9.6726e-04\n",
            "Epoch 59/200\n",
            "2108/2108 [==============================] - 28s 13ms/step - loss: 9.4839e-04\n",
            "Epoch 60/200\n",
            "2108/2108 [==============================] - 28s 13ms/step - loss: 9.3991e-04\n",
            "Epoch 61/200\n",
            "2108/2108 [==============================] - 27s 13ms/step - loss: 9.7314e-04\n",
            "Epoch 62/200\n",
            "2108/2108 [==============================] - 27s 13ms/step - loss: 9.0146e-04\n",
            "Epoch 63/200\n",
            "2108/2108 [==============================] - 27s 13ms/step - loss: 8.7560e-04\n",
            "Epoch 64/200\n",
            "2108/2108 [==============================] - 28s 13ms/step - loss: 9.8592e-04\n",
            "Epoch 65/200\n",
            "2108/2108 [==============================] - 29s 14ms/step - loss: 8.4843e-04\n",
            "Epoch 66/200\n",
            "2108/2108 [==============================] - 29s 14ms/step - loss: 8.5318e-04\n",
            "Epoch 67/200\n",
            "2108/2108 [==============================] - 28s 13ms/step - loss: 8.0118e-04\n",
            "Epoch 68/200\n",
            "2108/2108 [==============================] - 28s 13ms/step - loss: 8.3048e-04\n",
            "Epoch 69/200\n",
            "2108/2108 [==============================] - 28s 13ms/step - loss: 9.6531e-04\n",
            "Epoch 70/200\n",
            "2108/2108 [==============================] - 28s 13ms/step - loss: 0.0010\n",
            "Epoch 71/200\n",
            "2108/2108 [==============================] - 28s 13ms/step - loss: 9.0067e-04\n",
            "Epoch 72/200\n",
            "2108/2108 [==============================] - 28s 13ms/step - loss: 8.4171e-04\n",
            "Epoch 73/200\n",
            "2108/2108 [==============================] - 28s 13ms/step - loss: 0.0010\n",
            "Epoch 74/200\n",
            "2108/2108 [==============================] - 28s 13ms/step - loss: 8.4207e-04\n",
            "Epoch 75/200\n",
            "2108/2108 [==============================] - 28s 13ms/step - loss: 8.8891e-04\n",
            "Epoch 76/200\n",
            "2108/2108 [==============================] - 27s 13ms/step - loss: 0.0010\n",
            "Epoch 77/200\n",
            "2108/2108 [==============================] - 27s 13ms/step - loss: 8.2335e-04\n",
            "Epoch 78/200\n",
            "2108/2108 [==============================] - 28s 13ms/step - loss: 9.2026e-04\n",
            "Epoch 79/200\n",
            "2108/2108 [==============================] - 28s 13ms/step - loss: 8.4264e-04\n",
            "Epoch 80/200\n",
            "2108/2108 [==============================] - 28s 13ms/step - loss: 8.8614e-04\n",
            "Epoch 81/200\n",
            "2108/2108 [==============================] - 29s 14ms/step - loss: 8.3570e-04\n",
            "Epoch 82/200\n",
            "2108/2108 [==============================] - 28s 13ms/step - loss: 8.6214e-04\n",
            "Epoch 83/200\n",
            "2108/2108 [==============================] - 28s 13ms/step - loss: 9.5555e-04\n",
            "Epoch 84/200\n",
            "2108/2108 [==============================] - 28s 13ms/step - loss: 8.5161e-04\n",
            "Epoch 85/200\n",
            "2108/2108 [==============================] - 27s 13ms/step - loss: 8.9165e-04\n",
            "Epoch 86/200\n",
            "2108/2108 [==============================] - 28s 13ms/step - loss: 7.8512e-04\n",
            "Epoch 87/200\n",
            "2108/2108 [==============================] - 28s 13ms/step - loss: 9.1608e-04\n",
            "Epoch 88/200\n",
            "2108/2108 [==============================] - 28s 13ms/step - loss: 7.5734e-04\n",
            "Epoch 89/200\n",
            "2108/2108 [==============================] - 28s 13ms/step - loss: 7.7359e-04\n",
            "Epoch 90/200\n",
            "2108/2108 [==============================] - 28s 13ms/step - loss: 7.4626e-04\n",
            "Epoch 91/200\n",
            "2108/2108 [==============================] - 28s 14ms/step - loss: 7.7751e-04\n",
            "Epoch 92/200\n",
            "2108/2108 [==============================] - 29s 14ms/step - loss: 7.3380e-04\n",
            "Epoch 93/200\n",
            "2108/2108 [==============================] - 29s 14ms/step - loss: 7.1564e-04\n",
            "Epoch 94/200\n",
            "2108/2108 [==============================] - 28s 13ms/step - loss: 7.7517e-04\n",
            "Epoch 95/200\n",
            "2108/2108 [==============================] - 28s 13ms/step - loss: 8.0988e-04\n",
            "Epoch 96/200\n",
            "2108/2108 [==============================] - 28s 14ms/step - loss: 7.8302e-04\n",
            "Epoch 97/200\n",
            "2108/2108 [==============================] - 29s 14ms/step - loss: 7.0384e-04\n",
            "Epoch 98/200\n",
            "2108/2108 [==============================] - 28s 13ms/step - loss: 8.4700e-04\n",
            "Epoch 99/200\n",
            "2108/2108 [==============================] - 29s 14ms/step - loss: 7.5796e-04\n",
            "Epoch 100/200\n",
            "2108/2108 [==============================] - 29s 14ms/step - loss: 7.9498e-04\n",
            "Epoch 101/200\n",
            "2108/2108 [==============================] - 29s 14ms/step - loss: 7.7579e-04\n",
            "Epoch 102/200\n",
            "2108/2108 [==============================] - 29s 14ms/step - loss: 7.9419e-04\n",
            "Epoch 103/200\n",
            "2108/2108 [==============================] - 30s 14ms/step - loss: 7.8485e-04\n",
            "Epoch 104/200\n",
            "2108/2108 [==============================] - 29s 14ms/step - loss: 8.0328e-04\n",
            "Epoch 105/200\n",
            "2108/2108 [==============================] - 29s 14ms/step - loss: 9.9716e-04\n",
            "Epoch 106/200\n",
            "2108/2108 [==============================] - 29s 14ms/step - loss: 8.2661e-04\n",
            "Epoch 107/200\n",
            "2108/2108 [==============================] - 29s 14ms/step - loss: 7.0910e-04\n",
            "Epoch 108/200\n",
            "2108/2108 [==============================] - 29s 14ms/step - loss: 6.9314e-04\n",
            "Epoch 109/200\n",
            "2108/2108 [==============================] - 29s 14ms/step - loss: 7.1298e-04\n",
            "Epoch 110/200\n",
            "2108/2108 [==============================] - 29s 14ms/step - loss: 7.7804e-04\n",
            "Epoch 111/200\n",
            "2108/2108 [==============================] - 29s 14ms/step - loss: 7.1614e-04\n",
            "Epoch 112/200\n",
            "2108/2108 [==============================] - 29s 14ms/step - loss: 7.3874e-04\n",
            "Epoch 113/200\n",
            "2108/2108 [==============================] - 29s 14ms/step - loss: 7.4354e-04\n",
            "Epoch 114/200\n",
            "2108/2108 [==============================] - 29s 14ms/step - loss: 7.9348e-04\n",
            "Epoch 115/200\n",
            "2108/2108 [==============================] - 29s 14ms/step - loss: 7.3265e-04\n",
            "Epoch 116/200\n",
            "2108/2108 [==============================] - 29s 14ms/step - loss: 7.4555e-04\n",
            "Epoch 117/200\n",
            "2108/2108 [==============================] - 29s 14ms/step - loss: 7.3165e-04\n",
            "Epoch 118/200\n",
            "2108/2108 [==============================] - 29s 14ms/step - loss: 7.9963e-04\n",
            "Epoch 119/200\n",
            "2108/2108 [==============================] - 29s 14ms/step - loss: 8.1600e-04\n",
            "Epoch 120/200\n",
            "2108/2108 [==============================] - 30s 14ms/step - loss: 7.8241e-04\n",
            "Epoch 121/200\n",
            "2108/2108 [==============================] - 30s 14ms/step - loss: 8.0133e-04\n",
            "Epoch 122/200\n",
            "2108/2108 [==============================] - 30s 14ms/step - loss: 8.1040e-04\n",
            "Epoch 123/200\n",
            "2108/2108 [==============================] - 30s 14ms/step - loss: 8.1482e-04\n",
            "Epoch 124/200\n",
            "2108/2108 [==============================] - 31s 15ms/step - loss: 7.0552e-04\n",
            "Epoch 125/200\n",
            "2108/2108 [==============================] - 30s 14ms/step - loss: 7.5197e-04\n",
            "Epoch 126/200\n",
            "2108/2108 [==============================] - 30s 14ms/step - loss: 7.9868e-04\n",
            "Epoch 127/200\n",
            "2108/2108 [==============================] - 30s 14ms/step - loss: 6.9875e-04\n",
            "Epoch 128/200\n",
            "2108/2108 [==============================] - 30s 14ms/step - loss: 7.3811e-04\n",
            "Epoch 129/200\n",
            "2108/2108 [==============================] - 31s 15ms/step - loss: 7.0480e-04\n",
            "Epoch 130/200\n",
            "2108/2108 [==============================] - 34s 16ms/step - loss: 7.2664e-04\n",
            "Epoch 131/200\n",
            "2108/2108 [==============================] - 40s 19ms/step - loss: 7.8210e-04\n",
            "Epoch 132/200\n",
            "2108/2108 [==============================] - 40s 19ms/step - loss: 7.6992e-04\n",
            "Epoch 133/200\n",
            "2108/2108 [==============================] - 40s 19ms/step - loss: 7.8368e-04\n",
            "Epoch 134/200\n",
            "2108/2108 [==============================] - 41s 19ms/step - loss: 7.6157e-04\n",
            "Epoch 135/200\n",
            "2108/2108 [==============================] - 41s 19ms/step - loss: 7.1696e-04\n",
            "Epoch 136/200\n",
            "2108/2108 [==============================] - 41s 19ms/step - loss: 7.2370e-04\n",
            "Epoch 137/200\n",
            "2108/2108 [==============================] - 41s 19ms/step - loss: 7.2788e-04\n",
            "Epoch 138/200\n",
            "2108/2108 [==============================] - 35s 16ms/step - loss: 6.5569e-04\n",
            "Epoch 139/200\n",
            "2108/2108 [==============================] - 30s 14ms/step - loss: 6.8190e-04\n",
            "Epoch 140/200\n",
            "2108/2108 [==============================] - 30s 14ms/step - loss: 7.5411e-04\n",
            "Epoch 141/200\n",
            "2108/2108 [==============================] - 30s 14ms/step - loss: 7.6401e-04\n",
            "Epoch 142/200\n",
            "2108/2108 [==============================] - 31s 15ms/step - loss: 7.8184e-04\n",
            "Epoch 143/200\n",
            "2108/2108 [==============================] - 30s 14ms/step - loss: 6.8432e-04\n",
            "Epoch 144/200\n",
            "2108/2108 [==============================] - 30s 14ms/step - loss: 6.5293e-04\n",
            "Epoch 145/200\n",
            "2108/2108 [==============================] - 30s 14ms/step - loss: 7.3419e-04\n",
            "Epoch 146/200\n",
            "2108/2108 [==============================] - 30s 14ms/step - loss: 6.4168e-04\n",
            "Epoch 147/200\n",
            "2108/2108 [==============================] - 29s 14ms/step - loss: 6.1693e-04\n",
            "Epoch 148/200\n",
            "2108/2108 [==============================] - 30s 14ms/step - loss: 6.9033e-04\n",
            "Epoch 149/200\n",
            "2108/2108 [==============================] - 30s 14ms/step - loss: 7.0205e-04\n",
            "Epoch 150/200\n",
            "2108/2108 [==============================] - 30s 14ms/step - loss: 7.1253e-04\n",
            "Epoch 151/200\n",
            "2108/2108 [==============================] - 30s 14ms/step - loss: 6.8580e-04\n",
            "Epoch 152/200\n",
            "2108/2108 [==============================] - 30s 14ms/step - loss: 6.1460e-04\n",
            "Epoch 153/200\n",
            "2108/2108 [==============================] - 30s 14ms/step - loss: 6.5276e-04\n",
            "Epoch 154/200\n",
            "2108/2108 [==============================] - 30s 14ms/step - loss: 6.5398e-04\n",
            "Epoch 155/200\n",
            "2108/2108 [==============================] - 30s 14ms/step - loss: 7.0004e-04\n",
            "Epoch 156/200\n",
            "2108/2108 [==============================] - 30s 14ms/step - loss: 6.6855e-04\n",
            "Epoch 157/200\n",
            "2108/2108 [==============================] - 30s 14ms/step - loss: 7.3394e-04\n",
            "Epoch 158/200\n",
            "2108/2108 [==============================] - 30s 14ms/step - loss: 6.9147e-04\n",
            "Epoch 159/200\n",
            "2108/2108 [==============================] - 30s 14ms/step - loss: 6.8122e-04\n",
            "Epoch 160/200\n",
            "2108/2108 [==============================] - 30s 14ms/step - loss: 6.7272e-04\n",
            "Epoch 161/200\n",
            "2108/2108 [==============================] - 30s 14ms/step - loss: 6.3547e-04\n",
            "Epoch 162/200\n",
            "2108/2108 [==============================] - 31s 15ms/step - loss: 6.4788e-04\n",
            "Epoch 163/200\n",
            "2108/2108 [==============================] - 30s 14ms/step - loss: 7.2284e-04\n",
            "Epoch 164/200\n",
            "2108/2108 [==============================] - 30s 14ms/step - loss: 6.4624e-04\n",
            "Epoch 165/200\n",
            "2108/2108 [==============================] - 30s 14ms/step - loss: 7.2244e-04\n",
            "Epoch 166/200\n",
            "2108/2108 [==============================] - 31s 15ms/step - loss: 6.4356e-04\n",
            "Epoch 167/200\n",
            "2108/2108 [==============================] - 31s 15ms/step - loss: 6.7127e-04\n",
            "Epoch 168/200\n",
            "2108/2108 [==============================] - 31s 15ms/step - loss: 6.8875e-04\n",
            "Epoch 169/200\n",
            "2108/2108 [==============================] - 31s 15ms/step - loss: 6.1529e-04\n",
            "Epoch 170/200\n",
            "2108/2108 [==============================] - 32s 15ms/step - loss: 7.0660e-04\n",
            "Epoch 171/200\n",
            "2108/2108 [==============================] - 32s 15ms/step - loss: 7.5803e-04\n",
            "Epoch 172/200\n",
            "2108/2108 [==============================] - 33s 16ms/step - loss: 6.1473e-04\n",
            "Epoch 173/200\n",
            "2108/2108 [==============================] - 32s 15ms/step - loss: 6.6842e-04\n",
            "Epoch 174/200\n",
            "2108/2108 [==============================] - 33s 15ms/step - loss: 6.3170e-04\n",
            "Epoch 175/200\n",
            "2108/2108 [==============================] - 33s 16ms/step - loss: 6.7119e-04\n",
            "Epoch 176/200\n",
            "2108/2108 [==============================] - 32s 15ms/step - loss: 6.0757e-04\n",
            "Epoch 177/200\n",
            "2108/2108 [==============================] - 33s 16ms/step - loss: 6.6022e-04\n",
            "Epoch 178/200\n",
            "2108/2108 [==============================] - 33s 15ms/step - loss: 6.1102e-04\n",
            "Epoch 179/200\n",
            "2108/2108 [==============================] - 33s 15ms/step - loss: 6.9417e-04\n",
            "Epoch 180/200\n",
            "2108/2108 [==============================] - 33s 15ms/step - loss: 6.2996e-04\n",
            "Epoch 181/200\n",
            "2108/2108 [==============================] - 33s 16ms/step - loss: 6.7008e-04\n",
            "Epoch 182/200\n",
            "2108/2108 [==============================] - 32s 15ms/step - loss: 6.4744e-04\n",
            "Epoch 183/200\n",
            "2108/2108 [==============================] - 33s 16ms/step - loss: 7.1859e-04\n",
            "Epoch 184/200\n",
            "2108/2108 [==============================] - 33s 16ms/step - loss: 7.0817e-04\n",
            "Epoch 185/200\n",
            "2108/2108 [==============================] - 32s 15ms/step - loss: 5.7516e-04\n",
            "Epoch 186/200\n",
            "2108/2108 [==============================] - 33s 16ms/step - loss: 6.5529e-04\n",
            "Epoch 187/200\n",
            "2108/2108 [==============================] - 32s 15ms/step - loss: 6.0859e-04\n",
            "Epoch 188/200\n",
            "2108/2108 [==============================] - 32s 15ms/step - loss: 6.9064e-04\n",
            "Epoch 189/200\n",
            "2108/2108 [==============================] - 33s 16ms/step - loss: 7.1872e-04\n",
            "Epoch 190/200\n",
            "2108/2108 [==============================] - 32s 15ms/step - loss: 6.6836e-04\n",
            "Epoch 191/200\n",
            "2108/2108 [==============================] - 34s 16ms/step - loss: 6.1357e-04\n",
            "Epoch 192/200\n",
            "2108/2108 [==============================] - 33s 15ms/step - loss: 6.0562e-04\n",
            "Epoch 193/200\n",
            "2108/2108 [==============================] - 33s 15ms/step - loss: 6.5305e-04\n",
            "Epoch 194/200\n",
            "2108/2108 [==============================] - 32s 15ms/step - loss: 6.5554e-04\n",
            "Epoch 195/200\n",
            "2108/2108 [==============================] - 32s 15ms/step - loss: 5.7927e-04\n",
            "Epoch 196/200\n",
            "2108/2108 [==============================] - 33s 16ms/step - loss: 6.0848e-04\n",
            "Epoch 197/200\n",
            "2108/2108 [==============================] - 32s 15ms/step - loss: 6.4528e-04\n",
            "Epoch 198/200\n",
            "2108/2108 [==============================] - 31s 15ms/step - loss: 6.8238e-04\n",
            "Epoch 199/200\n",
            "2108/2108 [==============================] - 30s 14ms/step - loss: 7.5656e-04\n",
            "Epoch 200/200\n",
            "2108/2108 [==============================] - 29s 14ms/step - loss: 6.4357e-04\n"
          ],
          "name": "stdout"
        },
        {
          "output_type": "execute_result",
          "data": {
            "text/plain": [
              "<keras.callbacks.History at 0x7f07e7a7cf28>"
            ]
          },
          "metadata": {
            "tags": []
          },
          "execution_count": 16
        }
      ]
    },
    {
      "cell_type": "markdown",
      "metadata": {
        "id": "GHac1P0e5U4G"
      },
      "source": [
        "Part 3 - Making the predictions and visualising the results"
      ]
    },
    {
      "cell_type": "code",
      "metadata": {
        "id": "9A6R2mXldQk9"
      },
      "source": [
        "# Getting the real stock price of 2018\n",
        "dataset_test = pd.read_csv('GOOGL_Stock_Price_Test.csv')\n",
        "real_stock_price = dataset_test.iloc[:, 1:2].values"
      ],
      "execution_count": null,
      "outputs": []
    },
    {
      "cell_type": "code",
      "metadata": {
        "id": "419ZQNSFwHf5"
      },
      "source": [
        "# Getting the predicted stock price of 2018\n",
        "dataset_total = pd.concat((dataset_train['Open'], dataset_test['Open']), axis = 0)\n",
        "inputs = dataset_total[len(dataset_total) - len(dataset_test) - 60:].values #getting input of each previous financial days\n",
        "inputs = inputs.reshape(-1,1)\n",
        "inputs = sc.transform(inputs)\n",
        "X_test = []\n",
        "for i in range(60, 227):\n",
        "    X_test.append(inputs[i-60:i, 0])\n",
        "X_test = np.array(X_test)\n",
        "X_test = np.reshape(X_test, (X_test.shape[0], X_test.shape[1], 1))\n",
        "predicted_stock_price = regressor.predict(X_test)\n",
        "predicted_stock_price = sc.inverse_transform(predicted_stock_price)\n"
      ],
      "execution_count": null,
      "outputs": []
    },
    {
      "cell_type": "code",
      "metadata": {
        "id": "skhdvmCywHrr",
        "colab": {
          "base_uri": "https://localhost:8080/",
          "height": 376
        },
        "outputId": "9037d204-7fef-44cb-865f-5780e558ccd2"
      },
      "source": [
        "# Visualising the results\n",
        "plt.plot(real_stock_price, color = 'red', label = 'Real Google Stock Price')\n",
        "plt.plot(predicted_stock_price, color = 'blue', label = 'Predicted Google Stock Price')\n",
        "plt.title('Google Stock Price Prediction')\n",
        "plt.xlabel('Time')\n",
        "plt.ylabel('Google Stock Price')\n",
        "plt.legend()\n",
        "plt.show()"
      ],
      "execution_count": null,
      "outputs": [
        {
          "output_type": "display_data",
          "data": {
            "image/png": "[encoded data removed]",
            "text/plain": [
              "<Figure size 576x396 with 1 Axes>"
            ]
          },
          "metadata": {
            "tags": []
          }
        }
      ]
    }
  ]
}