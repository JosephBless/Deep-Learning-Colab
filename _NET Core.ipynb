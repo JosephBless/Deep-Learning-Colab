{
  "nbformat": 4,
  "nbformat_minor": 0,
  "metadata": {
    "colab": {
      "name": " .NET Core.ipynb",
      "provenance": [],
      "collapsed_sections": [],
      "include_colab_link": true
    },
    "kernelspec": {
      "name": "python3",
      "display_name": "Python 3"
    }
  },
  "cells": [
    {
      "cell_type": "markdown",
      "metadata": {
        "id": "view-in-github",
        "colab_type": "text"
      },
      "source": [
        "<a href=\"https://colab.research.google.com/github/JosephBless/Deep-Learning-Colab/blob/main/_NET%C2%A0Core.ipynb\" target=\"_parent\"><img src=\"https://colab.research.google.com/assets/colab-badge.svg\" alt=\"Open In Colab\"/></a>"
      ]
    },
    {
      "cell_type": "markdown",
      "metadata": {
        "id": "KTAqyyFDc7Ew"
      },
      "source": [
        "##Install dotnet core runtime"
      ]
    },
    {
      "cell_type": "code",
      "metadata": {
        "id": "7k7vI3rXUq26",
        "colab": {
          "base_uri": "https://localhost:8080/",
          "height": 390
        },
        "outputId": "2c6f261f-c621-4ae9-df02-0b4758611032"
      },
      "source": [
        "# https://www.microsoft.com/net/learn/get-started/linux/ubuntu17-10\n",
        "! wget -q https://packages.microsoft.com/config/ubuntu/17.10/packages-microsoft-prod.deb\n",
        "! dpkg -i packages-microsoft-prod.deb\n",
        "! apt-get install apt-transport-https\n",
        "! apt-get update\n",
        "! apt-get install aspnetcore-runtime-2.1"
      ],
      "execution_count": null,
      "outputs": [
        {
          "output_type": "stream",
          "text": [
            "(Reading database ... 20598 files and directories currently installed.)\n",
            "Preparing to unpack packages-microsoft-prod.deb ...\n",
            "Unpacking packages-microsoft-prod (1.0-3) over (1.0-3) ...\n",
            "Setting up packages-microsoft-prod (1.0-3) ...\n",
            "Reading package lists... Done\n",
            "Building dependency tree       \n",
            "Reading state information... Done\n",
            "apt-transport-https is already the newest version (1.5.2).\n",
            "0 upgraded, 0 newly installed, 0 to remove and 7 not upgraded.\n",
            "Hit:1 https://packages.microsoft.com/ubuntu/17.10/prod artful InRelease\n",
            "Hit:2 http://archive.ubuntu.com/ubuntu artful InRelease\n",
            "Get:3 http://security.ubuntu.com/ubuntu artful-security InRelease [83.2 kB]\n",
            "Get:4 http://archive.ubuntu.com/ubuntu artful-updates InRelease [88.7 kB]\n",
            "Get:5 http://archive.ubuntu.com/ubuntu artful-backports InRelease [74.6 kB]\n",
            "Fetched 247 kB in 1s (209 kB/s)\n",
            "Reading package lists... Done\n",
            "Reading package lists... Done\n",
            "Building dependency tree       \n",
            "Reading state information... Done\n",
            "aspnetcore-runtime-2.1 is already the newest version (2.1.2-1).\n",
            "0 upgraded, 0 newly installed, 0 to remove and 7 not upgraded.\n"
          ],
          "name": "stdout"
        }
      ]
    },
    {
      "cell_type": "markdown",
      "metadata": {
        "id": "qMYiBvfhdDF_"
      },
      "source": [
        "## Install dotnet core SDK\n",
        "\n",
        "We only need the SDK because we're building the application *in situ*. If you were to bring your own precompiled dotnet core app you would only need to pull down the runtime."
      ]
    },
    {
      "cell_type": "code",
      "metadata": {
        "id": "Chn6UkN3dFz9",
        "colab": {
          "base_uri": "https://localhost:8080/",
          "height": 105
        },
        "outputId": "2a8e4266-15ca-45b8-e25c-225cc314ee09"
      },
      "source": [
        "# https://www.microsoft.com/net/learn/get-started/linux/ubuntu17-10\n",
        "! apt-get install dotnet-sdk-2.1"
      ],
      "execution_count": null,
      "outputs": [
        {
          "output_type": "stream",
          "text": [
            "Reading package lists... Done\n",
            "Building dependency tree       \n",
            "Reading state information... Done\n",
            "dotnet-sdk-2.1 is already the newest version (2.1.302-1).\n",
            "0 upgraded, 0 newly installed, 0 to remove and 7 not upgraded.\n"
          ],
          "name": "stdout"
        }
      ]
    },
    {
      "cell_type": "markdown",
      "metadata": {
        "id": "cJNHS1zidbMa"
      },
      "source": [
        "## Hello World\n",
        "\n",
        "Get the dotnet core Hello World starter up working."
      ]
    },
    {
      "cell_type": "code",
      "metadata": {
        "id": "us3U5E1Px0YE",
        "colab": {
          "base_uri": "https://localhost:8080/",
          "height": 34
        },
        "outputId": "b7eb5d1a-27f7-441f-cc9a-3626a6f553a8"
      },
      "source": [
        "# there's no place like home...\n",
        "cd ~"
      ],
      "execution_count": null,
      "outputs": [
        {
          "output_type": "stream",
          "text": [
            "/content\n"
          ],
          "name": "stdout"
        }
      ]
    },
    {
      "cell_type": "code",
      "metadata": {
        "id": "a6uquqJMdmS9",
        "colab": {
          "base_uri": "https://localhost:8080/",
          "height": 212
        },
        "outputId": "40467c3a-5c3f-4aab-8936-8dc4f5c65a00"
      },
      "source": [
        "! dotnet new console -o HelloColab"
      ],
      "execution_count": null,
      "outputs": [
        {
          "output_type": "stream",
          "text": [
            "The template \"Console Application\" was created successfully.\r\n",
            "\r\n",
            "Processing post-creation actions...\r\n",
            "Running 'dotnet restore' on HelloColab/HelloColab.csproj...\n",
            "  Restoring packages for /content/HelloColab/HelloColab.csproj...\n",
            "  Generating MSBuild file /content/HelloColab/obj/HelloColab.csproj.nuget.g.props.\n",
            "  Generating MSBuild file /content/HelloColab/obj/HelloColab.csproj.nuget.g.targets.\n",
            "  Restore completed in 258.72 ms for /content/HelloColab/HelloColab.csproj.\n",
            "\n",
            "Restore succeeded.\n",
            "\n"
          ],
          "name": "stdout"
        }
      ]
    },
    {
      "cell_type": "code",
      "metadata": {
        "id": "cCLx8SG7f_-D",
        "colab": {
          "base_uri": "https://localhost:8080/",
          "height": 34
        },
        "outputId": "e63133bc-890d-4e63-dc84-32214f6cba55"
      },
      "source": [
        "cd HelloColab"
      ],
      "execution_count": null,
      "outputs": [
        {
          "output_type": "stream",
          "text": [
            "/content/HelloColab\n"
          ],
          "name": "stdout"
        }
      ]
    },
    {
      "cell_type": "code",
      "metadata": {
        "id": "y1iPtAR8iP-f",
        "colab": {
          "base_uri": "https://localhost:8080/",
          "height": 230
        },
        "outputId": "ffe8caf0-1a0b-4946-aef4-dbfe3f5e8b52"
      },
      "source": [
        "! dotnet restore\n",
        "! dotnet build"
      ],
      "execution_count": null,
      "outputs": [
        {
          "output_type": "stream",
          "text": [
            "\u001b[?1h\u001b=\u001b[?1h\u001b=\u001b[?1h\u001b=  Restore completed in 51.46 ms for /content/HelloColab/HelloColab.csproj.\n",
            "\u001b[?1h\u001b=Microsoft (R) Build Engine version 15.7.179.6572 for .NET Core\n",
            "Copyright (C) Microsoft Corporation. All rights reserved.\n",
            "\n",
            "\u001b[?1h\u001b=\u001b[?1h\u001b=  Restore completed in 51.86 ms for /content/HelloColab/HelloColab.csproj.\n",
            "  HelloColab -> /content/HelloColab/bin/Debug/netcoreapp2.1/HelloColab.dll\n",
            "\u001b[m\u001b[32m\n",
            "Build succeeded.\n",
            "\u001b[m    0 Warning(s)\n",
            "\u001b[m    0 Error(s)\n",
            "\u001b[m\n",
            "Time Elapsed 00:00:01.51\n"
          ],
          "name": "stdout"
        }
      ]
    },
    {
      "cell_type": "markdown",
      "metadata": {
        "id": "oTogD8_qd2ej"
      },
      "source": [
        "###Running the app\n",
        "\n",
        "Use dotnet app.dll"
      ]
    },
    {
      "cell_type": "code",
      "metadata": {
        "id": "LB-H1VefdK_k",
        "colab": {
          "base_uri": "https://localhost:8080/",
          "height": 34
        },
        "outputId": "0bb53a86-1e41-4033-b6ef-64e5e244e5eb"
      },
      "source": [
        "! dotnet bin/Debug/netcoreapp2.1/HelloColab.dll"
      ],
      "execution_count": null,
      "outputs": [
        {
          "output_type": "stream",
          "text": [
            "Hello World!\r\n"
          ],
          "name": "stdout"
        }
      ]
    },
    {
      "cell_type": "markdown",
      "metadata": {
        "id": "MRaesEBHfGCX"
      },
      "source": [
        "**Success!**\n",
        "\n",
        "Note: you can also inline these calls inside normal code cells, which enabled me to wire this into my ETL job.\n",
        "\n",
        "You can also pipe in Python variables as arguments using $variable_name or {variable_name}. (Rather uninteresting here as the args array does nothing in this example.)"
      ]
    },
    {
      "cell_type": "code",
      "metadata": {
        "id": "6v5ZtE_1fwPq",
        "colab": {
          "base_uri": "https://localhost:8080/",
          "height": 70
        },
        "outputId": "0be2dfbf-3df5-4b35-dce8-14adab9d62a7"
      },
      "source": [
        "for i in range(0,3):\n",
        "  ! dotnet bin/Debug/netcoreapp2.1/HelloColab.dll $i"
      ],
      "execution_count": null,
      "outputs": [
        {
          "output_type": "stream",
          "text": [
            "Hello World!\n",
            "Hello World!\n",
            "Hello World!\n"
          ],
          "name": "stdout"
        }
      ]
    },
    {
      "cell_type": "code",
      "metadata": {
        "id": "EViaGU99daWj",
        "colab": {
          "base_uri": "https://localhost:8080/",
          "height": 34
        },
        "outputId": "9b5a19f5-ab26-4d5b-91c6-ceabff1ca40c"
      },
      "source": [
        "cd ~"
      ],
      "execution_count": null,
      "outputs": [
        {
          "output_type": "stream",
          "text": [
            "/content\n"
          ],
          "name": "stdout"
        }
      ]
    },
    {
      "cell_type": "markdown",
      "metadata": {
        "id": "gH20Yst4fiae"
      },
      "source": [
        "## Web Api\n",
        "\n",
        "Now for something slightly more interesting.  Let's stand up a basic web api inside Colab and call it.\n",
        "\n",
        " I still haven't thought of a good use-case for this but I thought it was cool and it demonstrates running background tasks."
      ]
    },
    {
      "cell_type": "markdown",
      "metadata": {
        "id": "GIFfd4VzhkNZ"
      },
      "source": [
        "### Create the basic web api dotnet core starter project."
      ]
    },
    {
      "cell_type": "code",
      "metadata": {
        "id": "llYaeFcphjxw",
        "colab": {
          "base_uri": "https://localhost:8080/",
          "height": 212
        },
        "outputId": "bba7707d-c968-4e28-d3af-e4f3991c68e5"
      },
      "source": [
        "!dotnet new webapi -o TodoApi"
      ],
      "execution_count": null,
      "outputs": [
        {
          "output_type": "stream",
          "text": [
            "The template \"ASP.NET Core Web API\" was created successfully.\r\n",
            "\r\n",
            "Processing post-creation actions...\r\n",
            "Running 'dotnet restore' on TodoApi/TodoApi.csproj...\n",
            "  Restoring packages for /content/TodoApi/TodoApi.csproj...\n",
            "  Generating MSBuild file /content/TodoApi/obj/TodoApi.csproj.nuget.g.props.\n",
            "  Generating MSBuild file /content/TodoApi/obj/TodoApi.csproj.nuget.g.targets.\n",
            "  Restore completed in 1.66 sec for /content/TodoApi/TodoApi.csproj.\n",
            "\n",
            "Restore succeeded.\n",
            "\n"
          ],
          "name": "stdout"
        }
      ]
    },
    {
      "cell_type": "code",
      "metadata": {
        "id": "ampPl-UZia0G",
        "colab": {
          "base_uri": "https://localhost:8080/",
          "height": 34
        },
        "outputId": "85c91797-8790-4979-887a-e48624985302"
      },
      "source": [
        "cd TodoApi"
      ],
      "execution_count": null,
      "outputs": [
        {
          "output_type": "stream",
          "text": [
            "/content/TodoApi\n"
          ],
          "name": "stdout"
        }
      ]
    },
    {
      "cell_type": "code",
      "metadata": {
        "id": "opeEMH_jibua",
        "colab": {
          "base_uri": "https://localhost:8080/",
          "height": 230
        },
        "outputId": "965a7357-d7e7-4ee1-b8d3-fe1790a7515c"
      },
      "source": [
        "!dotnet restore\n",
        "!dotnet build"
      ],
      "execution_count": null,
      "outputs": [
        {
          "output_type": "stream",
          "text": [
            "\u001b[?1h\u001b=\u001b[?1h\u001b=\u001b[?1h\u001b=  Restore completed in 61.19 ms for /content/TodoApi/TodoApi.csproj.\n",
            "\u001b[?1h\u001b=Microsoft (R) Build Engine version 15.7.179.6572 for .NET Core\n",
            "Copyright (C) Microsoft Corporation. All rights reserved.\n",
            "\n",
            "\u001b[?1h\u001b=\u001b[?1h\u001b=  Restore completed in 62.49 ms for /content/TodoApi/TodoApi.csproj.\n",
            "  TodoApi -> /content/TodoApi/bin/Debug/netcoreapp2.1/TodoApi.dll\n",
            "\u001b[m\u001b[32m\n",
            "Build succeeded.\n",
            "\u001b[m    0 Warning(s)\n",
            "\u001b[m    0 Error(s)\n",
            "\u001b[m\n",
            "Time Elapsed 00:00:01.81\n"
          ],
          "name": "stdout"
        }
      ]
    },
    {
      "cell_type": "code",
      "metadata": {
        "id": "HQYprrgGifbO",
        "colab": {
          "base_uri": "https://localhost:8080/",
          "height": 141
        },
        "outputId": "6f1b4c80-3ca9-49a8-be1c-a8062ec247bf"
      },
      "source": [
        "# commented out as this will block\n",
        "#!dotnet bin/Debug/netcoreapp2.1/TodoApi.dll"
      ],
      "execution_count": null,
      "outputs": [
        {
          "output_type": "stream",
          "text": [
            "\u001b[?1h\u001b=Hosting environment: Production\n",
            "Content root path: /content/TodoApi\n",
            "Now listening on: http://localhost:5000\n",
            "Now listening on: https://localhost:5001\n",
            "Application started. Press Ctrl+C to shut down.\n",
            "^C\n",
            "Application is shutting down...\n"
          ],
          "name": "stdout"
        }
      ]
    },
    {
      "cell_type": "markdown",
      "metadata": {
        "id": "WFw_EEc2jyCi"
      },
      "source": [
        "Damn...that's not what we wanted.  We need a way to run the cell as a background progress.  Time for some cell magics.\n",
        "We can achieve what we want using %%script \n",
        "\n",
        "This cell magic takes the following optional arguments:\n",
        "\n",
        "--proc PROC\tThe variable in which to store Popen instance. This is used only when –bg option is given.\n",
        "\n",
        "--bg\tWhether to run the script in the background. If given, the only way to see the output of the command is with –out/err.\n",
        "\n",
        "--err ERR\tThe variable in which to store stderr from the script. If the script is backgrounded, this will be the stderr pipe, instead of the stderr text itself.\n",
        "\n",
        "--out OUT\tThe variable in which to store stdout from the script. If the script is backgrounded, this will be the stdout pipe, instead of the stderr text itself.\n",
        "\n",
        "\n"
      ]
    },
    {
      "cell_type": "code",
      "metadata": {
        "id": "Xl1wS5kO6V0w",
        "colab": {
          "base_uri": "https://localhost:8080/",
          "height": 212
        },
        "outputId": "eaa0e10a-ed05-4c29-9a05-a6fc50c61fc8"
      },
      "source": [
        "!dotnet build"
      ],
      "execution_count": null,
      "outputs": [
        {
          "output_type": "stream",
          "text": [
            "\u001b[?1h\u001b=Microsoft (R) Build Engine version 15.7.179.6572 for .NET Core\n",
            "Copyright (C) Microsoft Corporation. All rights reserved.\n",
            "\n",
            "\u001b[?1h\u001b=\u001b[?1h\u001b=  Restore completed in 62.06 ms for /content/TodoApi/TodoApi.csproj.\n",
            "  TodoApi -> /content/TodoApi/bin/Debug/netcoreapp2.1/TodoApi.dll\n",
            "\u001b[m\u001b[32m\n",
            "Build succeeded.\n",
            "\u001b[m    0 Warning(s)\n",
            "\u001b[m    0 Error(s)\n",
            "\u001b[m\n",
            "Time Elapsed 00:00:01.89\n"
          ],
          "name": "stdout"
        }
      ]
    },
    {
      "cell_type": "code",
      "metadata": {
        "id": "G1HbZZAOj_tH",
        "colab": {
          "base_uri": "https://localhost:8080/",
          "height": 34
        },
        "outputId": "7f157568-60ea-493e-8eac-3b5015d1e5e6"
      },
      "source": [
        "%%script dotnet bin/Debug/netcoreapp2.1/TodoApi.dll --bg --proc=dotnet_webapi\n",
        "  :#noop"
      ],
      "execution_count": null,
      "outputs": [
        {
          "output_type": "stream",
          "text": [
            "Starting job # 21 in a separate thread.\n"
          ],
          "name": "stdout"
        }
      ]
    },
    {
      "cell_type": "code",
      "metadata": {
        "id": "DL774BDz7g4a",
        "colab": {
          "base_uri": "https://localhost:8080/",
          "height": 34
        },
        "outputId": "a67e4c8f-f4c5-47e0-d259-c4802f385eba"
      },
      "source": [
        "dotnet_webapi.pid"
      ],
      "execution_count": null,
      "outputs": [
        {
          "output_type": "execute_result",
          "data": {
            "text/plain": [
              "14468"
            ]
          },
          "metadata": {
            "tags": []
          },
          "execution_count": 426
        }
      ]
    },
    {
      "cell_type": "markdown",
      "metadata": {
        "id": "ATdVGtcnkpfo"
      },
      "source": [
        "Well it isn't blocking that's a good start.  Let's see if it is up and running."
      ]
    },
    {
      "cell_type": "code",
      "metadata": {
        "id": "XVoTUErEknin",
        "colab": {
          "base_uri": "https://localhost:8080/",
          "height": 34
        },
        "outputId": "86eb2d76-5f65-42fd-e99d-4c61480017e5"
      },
      "source": [
        "# we can access the background process via the dotnet_webapi variable we created with the --proc argument.\n",
        "if(dotnet_webapi.poll() == None):\n",
        "  print(\"It's alive!\")\n",
        "else:\n",
        "  print(\"It's dead Jim..\")"
      ],
      "execution_count": null,
      "outputs": [
        {
          "output_type": "stream",
          "text": [
            "It's alive!\n"
          ],
          "name": "stdout"
        }
      ]
    },
    {
      "cell_type": "code",
      "metadata": {
        "id": "0G4Lu64fk6fH",
        "colab": {
          "base_uri": "https://localhost:8080/",
          "height": 123
        },
        "outputId": "3e6d41c6-5e57-4ae3-a6a1-a33c9eacb127"
      },
      "source": [
        "for line in str(dotnet_webapi.stdout.peek()).split('\\\\n'):\n",
        "  print(line)"
      ],
      "execution_count": null,
      "outputs": [
        {
          "output_type": "execute_result",
          "data": {
            "text/plain": [
              "[\"b'Hosting environment: Production\",\n",
              " 'Content root path: /content/TodoApi',\n",
              " 'Now listening on: http://localhost:5000',\n",
              " 'Now listening on: https://localhost:5001',\n",
              " 'Application started. Press Ctrl+C to shut down.',\n",
              " \"'\"]"
            ]
          },
          "metadata": {
            "tags": []
          },
          "execution_count": 427
        }
      ]
    },
    {
      "cell_type": "markdown",
      "metadata": {
        "id": "hzmHdQXZlqXY"
      },
      "source": [
        "And we get back the same console text as before.  So the api definitely appears to be up.  Now can we actually use it?"
      ]
    },
    {
      "cell_type": "markdown",
      "metadata": {
        "id": "P6VWbJNPmBXy"
      },
      "source": [
        "### Hitting our api with Requests"
      ]
    },
    {
      "cell_type": "code",
      "metadata": {
        "id": "Bzs_6HVQlxCi"
      },
      "source": [
        "import requests\n",
        "requests.packages.urllib3.disable_warnings() # ignore ssl warnings\n",
        "\n",
        "def get_values():\n",
        "  try:\n",
        "    response = requests.get('http://localhost:5000/api/values', verify=False)\n",
        "\n",
        "    print('{} response'.format(response.status_code))\n",
        "    return response.content\n",
        "  except requests.exceptions.ConnectionError:\n",
        "    print('Connection refused')\n",
        "    return {}"
      ],
      "execution_count": null,
      "outputs": []
    },
    {
      "cell_type": "code",
      "metadata": {
        "id": "ebwowm4AmF4a",
        "colab": {
          "base_uri": "https://localhost:8080/",
          "height": 52
        },
        "outputId": "9c25496c-b2c7-413d-f111-7769103b2f8c"
      },
      "source": [
        "get_values()"
      ],
      "execution_count": null,
      "outputs": [
        {
          "output_type": "stream",
          "text": [
            "200 response\n"
          ],
          "name": "stdout"
        },
        {
          "output_type": "execute_result",
          "data": {
            "text/plain": [
              "b'[\"value1\",\"value2\"]'"
            ]
          },
          "metadata": {
            "tags": []
          },
          "execution_count": 431
        }
      ]
    },
    {
      "cell_type": "markdown",
      "metadata": {
        "id": "wBMvAeaZnKHu"
      },
      "source": [
        "Let's shutdown the webapi."
      ]
    },
    {
      "cell_type": "code",
      "metadata": {
        "id": "DABHpX8v1U8K"
      },
      "source": [
        "import signal"
      ],
      "execution_count": null,
      "outputs": []
    },
    {
      "cell_type": "code",
      "metadata": {
        "id": "5YhKEGf0pG4a"
      },
      "source": [
        "dotnet_webapi.send_signal(signal.SIGKILL)"
      ],
      "execution_count": null,
      "outputs": []
    },
    {
      "cell_type": "markdown",
      "metadata": {
        "id": "E2KgcN6jnv8s"
      },
      "source": [
        "Verify that it is down."
      ]
    },
    {
      "cell_type": "code",
      "metadata": {
        "id": "7f6sTEilmNCi",
        "colab": {
          "base_uri": "https://localhost:8080/",
          "height": 52
        },
        "outputId": "1281767a-d822-479d-8af6-9c09fd6e3517"
      },
      "source": [
        "get_values()"
      ],
      "execution_count": null,
      "outputs": [
        {
          "output_type": "stream",
          "text": [
            "Connection refused\n"
          ],
          "name": "stdout"
        },
        {
          "output_type": "execute_result",
          "data": {
            "text/plain": [
              "{}"
            ]
          },
          "metadata": {
            "tags": []
          },
          "execution_count": 433
        }
      ]
    }
  ]
}