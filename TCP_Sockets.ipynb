{
  "nbformat": 4,
  "nbformat_minor": 0,
  "metadata": {
    "colab": {
      "provenance": [],
      "include_colab_link": true
    },
    "kernelspec": {
      "name": "python3",
      "display_name": "Python 3"
    },
    "accelerator": "TPU"
  },
  "cells": [
    {
      "cell_type": "markdown",
      "metadata": {
        "id": "view-in-github",
        "colab_type": "text"
      },
      "source": [
        "<a href=\"https://colab.research.google.com/github/JosephBless/Deep-Learning-Colab/blob/main/TCP_Sockets.ipynb\" target=\"_parent\"><img src=\"https://colab.research.google.com/assets/colab-badge.svg\" alt=\"Open In Colab\"/></a>"
      ]
    },
    {
      "cell_type": "markdown",
      "metadata": {
        "id": "BUKbcOc75B1H"
      },
      "source": [
        "Reference http://www.carlostoxtli.com/#colab-rpasock-1"
      ]
    },
    {
      "cell_type": "code",
      "metadata": {
        "id": "UYbOWszfSMSy",
        "outputId": "591dc0c2-5189-4ca6-9b24-a4175a497bb2",
        "colab": {
          "base_uri": "https://localhost:8080/",
          "height": 452
        }
      },
      "source": [
        "!apt install telnet"
      ],
      "execution_count": null,
      "outputs": [
        {
          "output_type": "stream",
          "text": [
            "Reading package lists... Done\n",
            "Building dependency tree       \n",
            "Reading state information... Done\n",
            "The following additional packages will be installed:\n",
            "  netbase\n",
            "The following NEW packages will be installed:\n",
            "  netbase telnet\n",
            "0 upgraded, 2 newly installed, 0 to remove and 8 not upgraded.\n",
            "Need to get 79.8 kB of archives.\n",
            "After this operation, 210 kB of additional disk space will be used.\n",
            "Get:1 http://archive.ubuntu.com/ubuntu bionic/main amd64 netbase all 5.4 [12.7 kB]\n",
            "Get:2 http://archive.ubuntu.com/ubuntu bionic/main amd64 telnet amd64 0.17-41 [67.1 kB]\n",
            "Fetched 79.8 kB in 1s (107 kB/s)\n",
            "Selecting previously unselected package netbase.\n",
            "(Reading database ... 131183 files and directories currently installed.)\n",
            "Preparing to unpack .../archives/netbase_5.4_all.deb ...\n",
            "Unpacking netbase (5.4) ...\n",
            "Selecting previously unselected package telnet.\n",
            "Preparing to unpack .../telnet_0.17-41_amd64.deb ...\n",
            "Unpacking telnet (0.17-41) ...\n",
            "Processing triggers for man-db (2.8.3-2ubuntu0.1) ...\n",
            "Setting up netbase (5.4) ...\n",
            "Setting up telnet (0.17-41) ...\n",
            "update-alternatives: using /usr/bin/telnet.netkit to provide /usr/bin/telnet (telnet) in auto mode\n"
          ],
          "name": "stdout"
        }
      ]
    },
    {
      "cell_type": "code",
      "metadata": {
        "id": "z3RTMv9IYTyx"
      },
      "source": [
        "run_thread = True\n",
        "first_time = True\n",
        "server = None\n",
        "serverPort = 5000"
      ],
      "execution_count": null,
      "outputs": []
    },
    {
      "cell_type": "code",
      "metadata": {
        "id": "MGnTw1ZP8p-f",
        "outputId": "aa24a1a2-0737-4da9-be87-93ef021e7ca2",
        "colab": {
          "base_uri": "https://localhost:8080/",
          "height": 35
        }
      },
      "source": [
        "import socket\n",
        "local_ip = socket.gethostbyname(socket.getfqdn(socket.gethostname()))\n",
        "print(local_ip)"
      ],
      "execution_count": null,
      "outputs": [
        {
          "output_type": "stream",
          "text": [
            "172.28.0.2\n"
          ],
          "name": "stdout"
        }
      ]
    },
    {
      "cell_type": "code",
      "metadata": {
        "id": "Xnn2TC9MBwi6"
      },
      "source": [
        "import os, sys, requests, json\n",
        "from multiprocessing import Process\n",
        "from socket import *\n",
        "\n",
        "def run_server():\n",
        "  global serverPort\n",
        "  serverSocket = socket(AF_INET,SOCK_STREAM)\n",
        "  serverSocket.bind(('',serverPort))\n",
        "  serverSocket.listen(1)\n",
        "  print('The server is ready to receive')\n",
        "  while 1:\n",
        "      connectionSocket, addr = serverSocket.accept()\n",
        "      sentence = connectionSocket.recv(1024)\n",
        "      capitalizedSentence = sentence.upper()\n",
        "      connectionSocket.send(capitalizedSentence)\n",
        "      connectionSocket.close()\n",
        "\n",
        "def stop_server():\n",
        "  global server\n",
        "  if server is not None:\n",
        "    server.terminate()\n",
        "    server.join()\n",
        "\n",
        "def start_server(run_thread):\n",
        "  global server\n",
        "  if run_thread:\n",
        "    server = Process(target=run_server)\n",
        "    server.start()\n",
        "  else:\n",
        "    run_server()"
      ],
      "execution_count": null,
      "outputs": []
    },
    {
      "cell_type": "code",
      "metadata": {
        "id": "ID6Ooc9O-fOl",
        "outputId": "e27311ab-06b5-4cb0-e280-3ebdf3f085ff",
        "colab": {
          "base_uri": "https://localhost:8080/",
          "height": 35
        }
      },
      "source": [
        "stop_server()\n",
        "start_server(run_thread)\n",
        "run_thread = False"
      ],
      "execution_count": null,
      "outputs": [
        {
          "output_type": "stream",
          "text": [
            "The server is ready to receive\n"
          ],
          "name": "stdout"
        }
      ]
    },
    {
      "cell_type": "code",
      "metadata": {
        "id": "lrO47YxeJzTl",
        "outputId": "87556855-35b0-4911-a116-75a35ef2c5e7",
        "colab": {
          "base_uri": "https://localhost:8080/",
          "height": 52
        }
      },
      "source": [
        "from socket import *\n",
        "serverName =  'localhost'\n",
        "clientSocket = socket(AF_INET, SOCK_STREAM)\n",
        "clientSocket.connect((serverName,serverPort))\n",
        "sentence = input('Input lowercase sentence:')\n",
        "clientSocket.send(sentence.encode('utf-8'))\n",
        "modifiedSentence = clientSocket.recv(2048)\n",
        "print('From Server:', modifiedSentence)\n",
        "clientSocket.close()"
      ],
      "execution_count": null,
      "outputs": [
        {
          "output_type": "stream",
          "text": [
            "Input lowercase sentence:hola\n",
            "From Server: b'HOLA'\n"
          ],
          "name": "stdout"
        }
      ]
    },
    {
      "cell_type": "code",
      "metadata": {
        "id": "H-q2f2asYAUs",
        "outputId": "a7a59747-8e03-4079-a2f0-567a19c0e562",
        "colab": {
          "base_uri": "https://localhost:8080/",
          "height": 95
        }
      },
      "source": [
        "!telnet localhost 5000"
      ],
      "execution_count": null,
      "outputs": [
        {
          "output_type": "stream",
          "text": [
            "Trying 127.0.0.1...\n",
            "Connected to localhost.\n",
            "Escape character is '^]'.\n"
          ],
          "name": "stdout"
        }
      ]
    },
    {
      "cell_type": "code",
      "metadata": {
        "id": "OFUJUrdGN_s1",
        "outputId": "7dcdd7e0-a597-47ad-d78d-95293a4e1530",
        "colab": {
          "base_uri": "https://localhost:8080/",
          "height": 52
        }
      },
      "source": [
        "# subdomain = \"aiwork000\"\n",
        "# !nohup ssh -o StrictHostKeyChecking=no -R {subdomain}:{serverPort}:{local_ip}:{serverPort} serveo.net &\n",
        "# public_url = subdomain + '.serveo.net'\n",
        "# print(public_url)"
      ],
      "execution_count": null,
      "outputs": [
        {
          "output_type": "stream",
          "text": [
            "nohup: appending output to 'nohup.out'\n",
            "aiwork000.serveo.net\n"
          ],
          "name": "stdout"
        }
      ]
    }
  ]
}